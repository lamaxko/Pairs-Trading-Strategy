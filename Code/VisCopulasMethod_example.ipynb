{
 "cells": [
  {
   "cell_type": "code",
   "execution_count": 14,
   "metadata": {},
   "outputs": [],
   "source": [
    "import pandas as pd\n",
    "import rpy2 as rpy2\n",
    "import rpy2.robjects as robjects\n",
    "\n",
    "from rpy2.robjects.packages import importr\n",
    "from rpy2.robjects import pandas2ri\n",
    "from Helpers.FunctHelpers import *\n",
    "from Helpers.PlotHelpers import *"
   ]
  },
  {
   "cell_type": "code",
   "execution_count": 15,
   "metadata": {},
   "outputs": [
    {
     "name": "stdout",
     "output_type": "stream",
     "text": [
      "[*********************100%***********************]  65 of 65 completed"
     ]
    },
    {
     "name": "stderr",
     "output_type": "stream",
     "text": [
      "\n",
      "6 Failed downloads:\n",
      "['WLTW', 'RE', 'PBCT', 'FRC', 'BRK.B']: Exception('%ticker%: No timezone found, symbol may be delisted')\n",
      "['SIVB']: Exception(\"%ticker%: Period 'max' is invalid, must be one of ['1d', '5d']\")\n"
     ]
    },
    {
     "name": "stdout",
     "output_type": "stream",
     "text": [
      "\n"
     ]
    }
   ],
   "source": [
    "# Download data\n",
    "\n",
    "tickers = pd.read_excel('Data/SandP500list.xlsx')\n",
    "tickers = tickers[tickers['sector'] == 'Financials']\n",
    "names = tickers['symbol'].tolist()\n",
    "\n",
    "start_date = pd.to_datetime('2022-01-01') # train 12 months\n",
    "end_date = pd.to_datetime('2023-07-01') # test 6 months\n",
    "\n",
    "data = download_data(names, start_date, end_date)"
   ]
  },
  {
   "cell_type": "code",
   "execution_count": 16,
   "metadata": {},
   "outputs": [
    {
     "name": "stdout",
     "output_type": "stream",
     "text": [
      "(251, 59) (124, 59)\n"
     ]
    }
   ],
   "source": [
    "# Split into train and test data\n",
    "\n",
    "train_start = pd.to_datetime('2022-01-01')\n",
    "train_end = pd.to_datetime('2022-12-31')\n",
    "test_start = pd.to_datetime('2023-01-01')\n",
    "test_end = pd.to_datetime('2023-07-01')\n",
    "\n",
    "train_data, test_data = train_test_split(data, train_start, train_end, test_start, test_end)\n",
    "print(train_data.shape, test_data.shape)"
   ]
  },
  {
   "cell_type": "code",
   "execution_count": 17,
   "metadata": {},
   "outputs": [
    {
     "name": "stdout",
     "output_type": "stream",
     "text": [
      "Choosen pairs: 20 from 1711 posssible pairs\n"
     ]
    }
   ],
   "source": [
    "# Calculate SSD and select 20 pairs with lowest SSD\n",
    "\n",
    "train_data_cum = train_data.pct_change().cumsum().dropna(axis=0)\n",
    "\n",
    "ssd_train = find_ssd(train_data_cum)\n",
    "pairs = select_lowest_ssd(ssd_train, train_data_cum)\n",
    "\n",
    "print(f'Choosen pairs: {len(pairs)} from {round(len(data.columns) * (len(data.columns) - 1) / 2)} posssible pairs')"
   ]
  },
  {
   "cell_type": "code",
   "execution_count": 18,
   "metadata": {},
   "outputs": [],
   "source": [
    "#plot_min_ssd_pairs(pairs, train_data_cum)"
   ]
  },
  {
   "cell_type": "code",
   "execution_count": 19,
   "metadata": {},
   "outputs": [
    {
     "name": "stdout",
     "output_type": "stream",
     "text": [
      "AFL: norm AIC = -1391.6794376972755, logistic AIC = -1392.2169874462488, genextreme AIC = -1370.985455028554\n"
     ]
    }
   ],
   "source": [
    "import pandas as pd\n",
    "import numpy as np\n",
    "from scipy.stats import norm, logistic, genextreme\n",
    "from scipy.optimize import minimize\n",
    "\n",
    "\n",
    "# Calculate daily returns from cumulative returns\n",
    "returns = train_data.pct_change().dropna(axis=0)\n",
    "\n",
    "# Define a function to fit a distribution and calculate AIC\n",
    "def fit_distribution(data, dist_name):\n",
    "    # Fit the distribution\n",
    "    if dist_name == \"norm\":\n",
    "        dist = norm\n",
    "    elif dist_name == \"logistic\":\n",
    "        dist = logistic\n",
    "    elif dist_name == \"genextreme\":\n",
    "        dist = genextreme\n",
    "        \n",
    "    params = dist.fit(data)\n",
    "    \n",
    "    # Calculate negative log likelihood\n",
    "    nll = -np.sum(dist.logpdf(data, *params))\n",
    "    \n",
    "    # Calculate AIC\n",
    "    k = len(params)\n",
    "    aic = 2*k + 2*nll\n",
    "    \n",
    "    return params, aic\n",
    "\n",
    "# Fit distributions for the 'AFL' and 'AIG' stocks\n",
    "afl_params_norm, afl_aic_norm = fit_distribution(returns['AFL'], 'norm')\n",
    "afl_params_logistic, afl_aic_logistic = fit_distribution(returns['AFL'], 'logistic')\n",
    "afl_params_genextreme, afl_aic_genextreme = fit_distribution(returns['AFL'], 'genextreme')\n",
    "\n",
    "aig_params_norm, aig_aic_norm = fit_distribution(returns['AIG'], 'norm')\n",
    "aig_params_logistic, aig_aic_logistic = fit_distribution(returns['AIG'], 'logistic')\n",
    "aig_params_genextreme, aig_aic_genextreme = fit_distribution(returns['AIG'], 'genextreme')\n",
    "\n",
    "{\n",
    "    \"AFL\": {\n",
    "        \"norm\": {\"params\": afl_params_norm, \"aic\": afl_aic_norm},\n",
    "        \"logistic\": {\"params\": afl_params_logistic, \"aic\": afl_aic_logistic},\n",
    "        \"genextreme\": {\"params\": afl_params_genextreme, \"aic\": afl_aic_genextreme}\n",
    "    },\n",
    "    \"AIG\": {\n",
    "        \"norm\": {\"params\": aig_params_norm, \"aic\": aig_aic_norm},\n",
    "        \"logistic\": {\"params\": aig_params_logistic, \"aic\": aig_aic_logistic},\n",
    "        \"genextreme\": {\"params\": aig_params_genextreme, \"aic\": aig_aic_genextreme}\n",
    "    }\n",
    "}\n",
    "\n",
    "print(f'AFL: norm AIC = {afl_aic_norm}, logistic AIC = {afl_aic_logistic}, genextreme AIC = {afl_aic_genextreme}')"
   ]
  },
  {
   "cell_type": "code",
   "execution_count": 20,
   "metadata": {},
   "outputs": [
    {
     "name": "stdout",
     "output_type": "stream",
     "text": [
      "        AFL       AIG\n",
      "0  0.976153  0.889874\n",
      "1  0.539377  0.257497\n",
      "2  0.893469  0.777261\n",
      "3  0.865623  0.874236\n",
      "4  0.816136  0.690202\n"
     ]
    }
   ],
   "source": [
    "# Transform returns to uniform using the CDF of the fitted GEV distributions\n",
    "uniform_afl = genextreme.cdf(returns['AFL'], *afl_params_genextreme)\n",
    "uniform_aig = genextreme.cdf(returns['AIG'], *aig_params_genextreme)\n",
    "\n",
    "# Combine into a DataFrame\n",
    "uniform_data = pd.DataFrame({'AFL': uniform_afl, 'AIG': uniform_aig})\n",
    "\n",
    "print(uniform_data.head())"
   ]
  },
  {
   "cell_type": "code",
   "execution_count": 21,
   "metadata": {},
   "outputs": [
    {
     "name": "stderr",
     "output_type": "stream",
     "text": [
      "R[write to console]: Zusätzlich: \n",
      "R[write to console]: Warnmeldungen:\n",
      "\n",
      "R[write to console]: 1: \n",
      "R[write to console]: In .local(copula, data, ...) :\n",
      "R[write to console]:  coercing 'data' to a matrix.\n",
      "\n",
      "R[write to console]: 2: \n",
      "R[write to console]: In .local(copula, data, ...) :\n",
      "R[write to console]:  coercing 'data' to a matrix.\n",
      "\n",
      "R[write to console]: 3: \n",
      "R[write to console]: In .local(copula, data, ...) :\n",
      "R[write to console]:  coercing 'data' to a matrix.\n",
      "\n"
     ]
    },
    {
     "name": "stdout",
     "output_type": "stream",
     "text": [
      "[[1]]\n",
      "Call: fitCopula(gumbelCop, data = df, ... = pairlist(method = \"ml\"))\n",
      "Fit based on \"maximum likelihood\" and 250 2-dimensional observations.\n",
      "Copula: gumbelCopula \n",
      "alpha \n",
      "2.271 \n",
      "The maximized loglikelihood is 110.3 \n",
      "Optimization converged\n",
      "\n",
      "[[2]]\n",
      "Call: fitCopula(claytonCop, data = df, ... = pairlist(method = \"ml\"))\n",
      "Fit based on \"maximum likelihood\" and 250 2-dimensional observations.\n",
      "Copula: claytonCopula \n",
      "alpha \n",
      "  2.9 \n",
      "The maximized loglikelihood is 35.96 \n",
      "Optimization converged\n",
      "\n",
      "[[3]]\n",
      "Call: fitCopula(normalCop, data = df, ... = pairlist(method = \"ml\"))\n",
      "Fit based on \"maximum likelihood\" and 250 2-dimensional observations.\n",
      "Copula: normalCopula \n",
      "rho.1 \n",
      "0.768 \n",
      "The maximized loglikelihood is 105.9 \n",
      "Optimization converged\n",
      "\n",
      "\n"
     ]
    }
   ],
   "source": [
    "import rpy2.robjects as ro\n",
    "from rpy2.robjects import pandas2ri\n",
    "from rpy2.robjects.packages import importr\n",
    "\n",
    "# Enable automatic conversion between pandas dataframes and R data.frames\n",
    "pandas2ri.activate()\n",
    "\n",
    "# Import R's \"copula\" package\n",
    "copula = importr('copula')\n",
    "VineCopula = importr('VineCopula')\n",
    "\n",
    "# Define the R script to fit copulas\n",
    "r_script = \"\"\"\n",
    "library(copula)\n",
    "\n",
    "# Assuming you have a dataframe 'df' in your environment already\n",
    "gumbelCop = gumbelCopula(dim = 2)\n",
    "claytonCop = claytonCopula(dim = 2)\n",
    "normalCop = normalCopula(dim = 2)\n",
    "\n",
    "# Fit the copulas to data\n",
    "fit_gumbel = fitCopula(gumbelCop, data=df, method=\"ml\")\n",
    "fit_clayton = fitCopula(claytonCop, data=df, method=\"ml\")\n",
    "fit_normal = fitCopula(normalCop, data=df, method=\"ml\")\n",
    "\n",
    "# You can return or analyze the fitted models as needed\n",
    "list(fit_gumbel, fit_clayton, fit_normal)\n",
    "\"\"\"\n",
    "\n",
    "# Convert your pandas DataFrame to an R dataframe\n",
    "r_dataframe = pandas2ri.py2rpy(uniform_data)\n",
    "\n",
    "# Assign the DataFrame to an R variable\n",
    "ro.globalenv['df'] = r_dataframe\n",
    "\n",
    "# Run the R script\n",
    "result = ro.r(r_script)\n",
    "\n",
    "# Convert the result back to Python format if needed, or handle in R\n",
    "print(result)\n"
   ]
  },
  {
   "cell_type": "code",
   "execution_count": 23,
   "metadata": {},
   "outputs": [
    {
     "name": "stderr",
     "output_type": "stream",
     "text": [
      "R[write to console]: Zusätzlich: \n",
      "R[write to console]: Warnmeldung:\n",
      "\n",
      "R[write to console]: In .local(copula, data, ...) :\n",
      "R[write to console]:  coercing 'data' to a matrix.\n",
      "\n"
     ]
    },
    {
     "name": "stdout",
     "output_type": "stream",
     "text": [
      "Trading Signals: ['No action', 'No action', 'No action', 'No action', 'No action', 'Sell AFL, Buy AIG', 'No action', 'Buy AFL, Sell AIG', 'Sell AFL, Buy AIG', 'No action', 'No action', 'No action', 'No action', 'Sell AFL, Buy AIG', 'No action', 'Sell AFL, Buy AIG', 'No action', 'No action', 'No action', 'Buy AFL, Sell AIG', 'No action', 'No action', 'No action', 'No action', 'No action', 'No action', 'No action', 'No action', 'No action', 'No action', 'No action', 'Buy AFL, Sell AIG', 'No action', 'No action', 'No action', 'No action', 'No action', 'No action', 'No action', 'No action', 'Sell AFL, Buy AIG', 'No action', 'No action', 'No action', 'No action', 'No action', 'No action', 'No action', 'No action', 'No action', 'No action', 'No action', 'No action', 'No action', 'No action', 'No action', 'No action', 'No action', 'No action', 'Sell AFL, Buy AIG', 'No action', 'No action', 'No action', 'Sell AFL, Buy AIG', 'Sell AFL, Buy AIG', 'No action', 'No action', 'No action', 'No action', 'Buy AFL, Sell AIG', 'Sell AFL, Buy AIG', 'No action', 'No action', 'No action', 'No action', 'No action', 'No action', 'No action', 'Buy AFL, Sell AIG', 'Buy AFL, Sell AIG', 'No action', 'Buy AFL, Sell AIG', 'No action', 'No action', 'No action', 'Sell AFL, Buy AIG', 'No action', 'No action', 'No action', 'No action', 'Sell AFL, Buy AIG', 'No action', 'No action', 'No action', 'No action', 'No action', 'No action', 'Sell AFL, Buy AIG', 'Sell AFL, Buy AIG', 'No action', 'No action', 'Sell AFL, Buy AIG', 'No action', 'No action', 'No action', 'No action', 'Sell AFL, Buy AIG', 'No action', 'No action', 'No action', 'No action', 'No action', 'Sell AFL, Buy AIG', 'No action', 'Buy AFL, Sell AIG', 'No action', 'No action', 'No action', 'No action', 'No action', 'No action', 'No action', 'No action', 'No action', 'No action', 'Sell AFL, Buy AIG', 'No action', 'No action', 'No action', 'No action', 'No action', 'No action', 'No action', 'No action', 'No action', 'No action', 'Sell AFL, Buy AIG', 'Sell AFL, Buy AIG', 'No action', 'No action', 'No action', 'Sell AFL, Buy AIG', 'No action', 'No action', 'Sell AFL, Buy AIG', 'No action', 'Sell AFL, Buy AIG', 'No action', 'No action', 'No action', 'No action', 'No action', 'No action', 'No action', 'Buy AFL, Sell AIG', 'No action', 'No action', 'No action', 'No action', 'No action', 'No action', 'No action', 'No action', 'No action', 'No action', 'No action', 'Buy AFL, Sell AIG', 'No action', 'No action', 'No action', 'No action', 'No action', 'No action', 'No action', 'No action', 'No action', 'No action', 'No action', 'Sell AFL, Buy AIG', 'No action', 'No action', 'No action', 'No action', 'No action', 'Sell AFL, Buy AIG', 'No action', 'No action', 'No action', 'No action', 'No action', 'No action', 'No action', 'Sell AFL, Buy AIG', 'No action', 'Buy AFL, Sell AIG', 'No action', 'No action', 'No action', 'No action', 'No action', 'No action', 'No action', 'No action', 'No action', 'No action', 'Sell AFL, Buy AIG', 'No action', 'Sell AFL, Buy AIG', 'Sell AFL, Buy AIG', 'No action', 'No action', 'Sell AFL, Buy AIG', 'No action', 'No action', 'No action', 'No action', 'Sell AFL, Buy AIG', 'No action', 'Sell AFL, Buy AIG', 'Sell AFL, Buy AIG', 'No action', 'Sell AFL, Buy AIG', 'Sell AFL, Buy AIG', 'No action', 'No action', 'Sell AFL, Buy AIG', 'No action', 'Buy AFL, Sell AIG', 'No action', 'No action', 'Sell AFL, Buy AIG', 'No action', 'No action', 'No action', 'No action', 'No action', 'No action', 'No action', 'No action', 'No action', 'No action', 'No action', 'No action', 'No action', 'No action', 'No action', 'Sell AFL, Buy AIG', 'No action', 'No action', 'No action']\n",
      "Close Signals: ['Close', 'Keep', 'Close', 'Close', 'Close', 'Close', 'Keep', 'Close', 'Close', 'Keep', 'Keep', 'Keep', 'Keep', 'Close', 'Close', 'Keep', 'Keep', 'Close', 'Close', 'Close', 'Close', 'Keep', 'Close', 'Close', 'Close', 'Keep', 'Keep', 'Keep', 'Keep', 'Close', 'Close', 'Keep', 'Close', 'Keep', 'Keep', 'Keep', 'Close', 'Keep', 'Keep', 'Close', 'Keep', 'Keep', 'Keep', 'Close', 'Close', 'Keep', 'Close', 'Close', 'Close', 'Close', 'Close', 'Close', 'Close', 'Close', 'Keep', 'Close', 'Close', 'Keep', 'Keep', 'Close', 'Keep', 'Close', 'Keep', 'Close', 'Keep', 'Close', 'Close', 'Keep', 'Close', 'Close', 'Close', 'Close', 'Keep', 'Close', 'Keep', 'Keep', 'Keep', 'Keep', 'Close', 'Keep', 'Keep', 'Close', 'Close', 'Close', 'Keep', 'Close', 'Keep', 'Keep', 'Keep', 'Keep', 'Close', 'Close', 'Close', 'Keep', 'Keep', 'Keep', 'Close', 'Keep', 'Close', 'Close', 'Close', 'Keep', 'Keep', 'Close', 'Keep', 'Close', 'Close', 'Keep', 'Keep', 'Keep', 'Keep', 'Close', 'Close', 'Keep', 'Close', 'Close', 'Keep', 'Keep', 'Close', 'Keep', 'Close', 'Keep', 'Close', 'Close', 'Keep', 'Close', 'Close', 'Keep', 'Close', 'Keep', 'Keep', 'Keep', 'Close', 'Close', 'Close', 'Keep', 'Close', 'Keep', 'Close', 'Keep', 'Close', 'Keep', 'Close', 'Keep', 'Keep', 'Close', 'Keep', 'Close', 'Close', 'Close', 'Close', 'Close', 'Close', 'Keep', 'Close', 'Keep', 'Close', 'Keep', 'Keep', 'Close', 'Close', 'Close', 'Keep', 'Close', 'Keep', 'Keep', 'Close', 'Close', 'Close', 'Close', 'Close', 'Close', 'Close', 'Keep', 'Keep', 'Keep', 'Keep', 'Close', 'Keep', 'Keep', 'Keep', 'Keep', 'Keep', 'Close', 'Close', 'Keep', 'Keep', 'Close', 'Close', 'Keep', 'Keep', 'Keep', 'Keep', 'Keep', 'Keep', 'Close', 'Keep', 'Close', 'Close', 'Close', 'Keep', 'Close', 'Close', 'Close', 'Close', 'Close', 'Close', 'Close', 'Close', 'Close', 'Keep', 'Close', 'Close', 'Close', 'Keep', 'Close', 'Close', 'Keep', 'Close', 'Keep', 'Keep', 'Close', 'Close', 'Close', 'Close', 'Close', 'Keep', 'Close', 'Close', 'Close', 'Keep', 'Keep', 'Close', 'Close', 'Keep', 'Close', 'Close', 'Close', 'Keep', 'Keep', 'Close', 'Keep', 'Close', 'Close', 'Keep', 'Close', 'Close', 'Keep', 'Close', 'Keep']\n"
     ]
    }
   ],
   "source": [
    "import numpy as np\n",
    "import pandas as pd\n",
    "from scipy.stats import genextreme\n",
    "import rpy2.robjects as ro\n",
    "from rpy2.robjects import pandas2ri\n",
    "from rpy2.robjects.packages import importr\n",
    "\n",
    "# Enable automatic conversion between pandas dataframes and R data.frames\n",
    "pandas2ri.activate()\n",
    "\n",
    "# Import R's \"copula\" package\n",
    "copula = importr('copula')\n",
    "\n",
    "# Ensure data is strictly within [0, 1]\n",
    "uniform_data = uniform_data.clip(0, 1)\n",
    "\n",
    "# Convert your pandas DataFrame to an R dataframe and pass to R environment\n",
    "r_uniform_data = pandas2ri.py2rpy(uniform_data)\n",
    "ro.globalenv['df'] = r_uniform_data\n",
    "\n",
    "# R script to define and fit the copula, then use it for calculating conditional probabilities\n",
    "r_script = \"\"\"\n",
    "library(copula)\n",
    "# Fit a Gumbel copula to the data\n",
    "gumbelCop <- gumbelCopula(dim = 2)\n",
    "fit_gumbel <- fitCopula(gumbelCop, df, method = \"ml\")\n",
    "\n",
    "# Function to calculate conditional probability h1 for u2 given u1 = 0.5\n",
    "h1 <- function(u2) {\n",
    "  sapply(u2, function(x) pCopula(c(0.5, x), copula = fit_gumbel@copula))\n",
    "}\n",
    "\n",
    "# Function to calculate conditional probability h2 for u1 given u2 = 0.5\n",
    "h2 <- function(u1) {\n",
    "  sapply(u1, function(x) pCopula(c(x, 0.5), copula = fit_gumbel@copula))\n",
    "}\n",
    "\n",
    "# Calculate conditional probabilities\n",
    "h1_values <- h1(df$AIG)\n",
    "h2_values <- h2(df$AFL)\n",
    "\n",
    "list(h1_values = h1_values, h2_values = h2_values)\n",
    "\"\"\"\n",
    "\n",
    "# Run the R script and get results\n",
    "results = ro.r(r_script)\n",
    "\n",
    "# Extract results from R to Python\n",
    "h1_values = np.array(results.rx2('h1_values'))\n",
    "h2_values = np.array(results.rx2('h2_values'))\n",
    "\n",
    "# Calculate mispricing indices\n",
    "# Mispricing index calculations with a different threshold for demonstration\n",
    "m1 = h1_values - 0.45  # Adjusting threshold to 0.45 from 0.5\n",
    "m2 = h2_values - 0.45\n",
    "\n",
    "\n",
    "# Generate trading signals based on mispricing indices\n",
    "signals = ['Buy AFL, Sell AIG' if m1_i > 0 and m2_i < 0 else 'Sell AFL, Buy AIG' if m1_i < 0 and m2_i > 0 else 'No action' for m1_i, m2_i in zip(m1, m2)]\n",
    "\n",
    "# Assuming some threshold to close positions\n",
    "threshold = 0.1\n",
    "close_signals = ['Close' if abs(m1_i) < threshold and abs(m2_i) < threshold else 'Keep' for m1_i, m2_i in zip(m1, m2)]\n",
    "\n",
    "# Print outputs\n",
    "print(\"Trading Signals:\", signals)\n",
    "print(\"Close Signals:\", close_signals)\n"
   ]
  },
  {
   "cell_type": "code",
   "execution_count": 24,
   "metadata": {},
   "outputs": [
    {
     "data": {
      "image/png": "[encoded data removed]",
      "text/plain": [
       "<Figure size 640x480 with 1 Axes>"
      ]
     },
     "metadata": {},
     "output_type": "display_data"
    }
   ],
   "source": [
    "import matplotlib.pyplot as plt\n",
    "\n",
    "plt.hist(m1, bins=30, alpha=0.5, label='m1')\n",
    "plt.hist(m2, bins=30, alpha=0.5, label='m2')\n",
    "plt.legend()\n",
    "plt.title('Distribution of Mispricing Indices')\n",
    "plt.xlabel('Mispricing Index Value')\n",
    "plt.ylabel('Frequency')\n",
    "plt.show()\n"
   ]
  }
 ],
 "metadata": {
  "kernelspec": {
   "display_name": "Python 3",
   "language": "python",
   "name": "python3"
  },
  "language_info": {
   "codemirror_mode": {
    "name": "ipython",
    "version": 3
   },
   "file_extension": ".py",
   "mimetype": "text/x-python",
   "name": "python",
   "nbconvert_exporter": "python",
   "pygments_lexer": "ipython3",
   "version": "3.11.4"
  }
 },
 "nbformat": 4,
 "nbformat_minor": 2
}
