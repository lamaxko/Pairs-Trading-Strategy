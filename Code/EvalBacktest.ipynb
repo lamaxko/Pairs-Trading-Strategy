{
 "cells": [
  {
   "cell_type": "markdown",
   "metadata": {},
   "source": [
    "# Backtes the three PTS Methods"
   ]
  },
  {
   "cell_type": "code",
   "execution_count": 7,
   "metadata": {},
   "outputs": [],
   "source": [
    "from Helpers.TstMethods import *\n",
    "from Helpers.FunctHelpers import *\n",
    "\n",
    "import matplotlib.pyplot as plt\n",
    "import pandas as pd"
   ]
  },
  {
   "cell_type": "code",
   "execution_count": 8,
   "metadata": {},
   "outputs": [
    {
     "name": "stdout",
     "output_type": "stream",
     "text": [
      "[*********************100%***********************]  65 of 65 completed"
     ]
    },
    {
     "name": "stderr",
     "output_type": "stream",
     "text": [
      "\n",
      "5 Failed downloads:\n",
      "['WLTW', 'BRK.B', 'FRC', 'PBCT', 'RE']: Exception('%ticker%: No timezone found, symbol may be delisted')\n"
     ]
    },
    {
     "name": "stdout",
     "output_type": "stream",
     "text": [
      "\n"
     ]
    }
   ],
   "source": [
    "# Donwnload data\n",
    "tickers = pd.read_excel('Data/SandP500list.xlsx')\n",
    "tickers = tickers[tickers['sector'] == 'Financials']\n",
    "names = tickers['symbol'].tolist()\n",
    "\n",
    "START_DATE = pd.to_datetime('2022-01-01')\n",
    "END_DATE = pd.to_datetime('2024-07-01')\n",
    "\n",
    "data = download_data(names, START_DATE, END_DATE)"
   ]
  },
  {
   "cell_type": "code",
   "execution_count": 9,
   "metadata": {},
   "outputs": [
    {
     "name": "stdout",
     "output_type": "stream",
     "text": [
      "Backtest Period: 1\n",
      "Start Date: 2022-01-01 End Date: 2023-07-01\n",
      "-------------------------------------------\n",
      "Backtest Period: 2\n",
      "Start Date: 2022-02-01 End Date: 2023-08-01\n",
      "-------------------------------------------\n",
      "Backtest Period: 3\n",
      "Start Date: 2022-03-01 End Date: 2023-09-01\n",
      "-------------------------------------------\n",
      "Backtest Period: 4\n",
      "Start Date: 2022-04-01 End Date: 2023-10-01\n",
      "-------------------------------------------\n",
      "Backtest Period: 5\n",
      "Start Date: 2022-05-01 End Date: 2023-11-01\n",
      "-------------------------------------------\n",
      "Backtest Period: 6\n",
      "Start Date: 2022-06-01 End Date: 2023-12-01\n",
      "-------------------------------------------\n",
      "Backtest Period: 7\n",
      "Start Date: 2022-07-01 End Date: 2024-01-01\n",
      "-------------------------------------------\n",
      "Backtest Period: 8\n",
      "Start Date: 2022-08-01 End Date: 2024-02-01\n",
      "-------------------------------------------\n",
      "Backtest Period: 9\n",
      "Start Date: 2022-09-01 End Date: 2024-03-01\n",
      "-------------------------------------------\n",
      "Backtest Period: 10\n",
      "Start Date: 2022-10-01 End Date: 2024-04-01\n",
      "-------------------------------------------\n",
      "Backtest Period: 11\n",
      "Start Date: 2022-11-01 End Date: 2024-05-01\n",
      "-------------------------------------------\n",
      "Backtest Period: 12\n",
      "Start Date: 2022-12-01 End Date: 2024-06-01\n",
      "-------------------------------------------\n"
     ]
    }
   ],
   "source": [
    "# Performe rolling backtest of the Three PTS Methods\n",
    "\n",
    "# Define the number of testing periods\n",
    "num_testing_peiods = pd.to_datetime(END_DATE) - pd.to_datetime(START_DATE)\n",
    "start_date, end_date = START_DATE, START_DATE + pd.DateOffset(months=18)\n",
    "\n",
    "# define lists to store the signals and returns\n",
    "dm_backtest_signals = []\n",
    "dm_backtest_returns = []\n",
    "\n",
    "coint_backtest_signals = []\n",
    "coint_backtest_returns = []\n",
    "\n",
    "copula_backtest_signals =[]\n",
    "copula_backtest_returns = []\n",
    "\n",
    "for i in range(num_testing_peiods.days):\n",
    "\n",
    "    # Split data into training and testing\n",
    "    train_start, train_end, test_start, test_end = train_test_dates(start_date)\n",
    "    train_data, test_data = train_test_split(data, train_start, train_end, test_start, test_end)\n",
    "\n",
    "    # Get Signals\n",
    "    dm_signals, dm_pairs = dm_get_signals_pairs(train_data, test_data)\n",
    "    dm_backtest_signals.append(dm_signals)\n",
    "\n",
    "    coint_signals, coint_pairs = coint_get_signals_pairs(train_data, test_data) #! Changes test df\n",
    "    coint_backtest_signals.append(coint_signals)\n",
    "\n",
    "    # copula_signals = copula_get_signals(train_data, test_data) # Copula signals are not implemented yet\n",
    "    # copula_backtest_signals.append(copula_signals)\n",
    "\n",
    "    # Calculate Returns\n",
    "    dm_daily_returns_pct = calculate_returns(dm_signals, dm_pairs, test_data)\n",
    "    dm_backtest_returns.append(dm_daily_returns_pct)\n",
    "\n",
    "    coint_daily_returns_pct = calculate_returns(coint_signals, coint_pairs, test_data)\n",
    "    coint_backtest_returns.append(coint_daily_returns_pct)\n",
    "\n",
    "    # copula_daily_returns_pct = calculate_returns(copula_signals, copula_pairs, test_data)\n",
    "    # copula_backtest_returns.append(copula_daily_returns_pct)\n",
    "\n",
    "    # Update Dates, Print Info and beak\n",
    "    print_backtest_info(i, start_date, end_date)\n",
    "    start_date, end_date = update_dates(start_date)\n",
    "    if (pd.to_datetime(end_date)) == pd.to_datetime(END_DATE):\n",
    "        break"
   ]
  },
  {
   "cell_type": "code",
   "execution_count": 35,
   "metadata": {},
   "outputs": [
    {
     "name": "stdout",
     "output_type": "stream",
     "text": [
      "Cumulative returns for the testing period, from: 2023-01 to: 2023-06\n",
      "Cumulative return: -3.94%\n",
      "---------------------------------------------------------------------\n",
      "Cumulative returns for the testing period, from: 2023-02 to: 2023-08\n",
      "Cumulative return: -4.16%\n",
      "---------------------------------------------------------------------\n",
      "Cumulative returns for the testing period, from: 2023-03 to: 2023-09\n",
      "Cumulative return: -4.69%\n",
      "---------------------------------------------------------------------\n",
      "Cumulative returns for the testing period, from: 2023-04 to: 2023-09\n",
      "Cumulative return: 1.23%\n",
      "---------------------------------------------------------------------\n",
      "Cumulative returns for the testing period, from: 2023-05 to: 2023-11\n",
      "Cumulative return: 0.72%\n",
      "---------------------------------------------------------------------\n",
      "Cumulative returns for the testing period, from: 2023-06 to: 2023-12\n",
      "Cumulative return: -0.40%\n",
      "---------------------------------------------------------------------\n",
      "Cumulative returns for the testing period, from: 2023-07 to: 2023-12\n",
      "Cumulative return: 2.74%\n",
      "---------------------------------------------------------------------\n",
      "Cumulative returns for the testing period, from: 2023-08 to: 2024-02\n",
      "Cumulative return: 1.23%\n",
      "---------------------------------------------------------------------\n",
      "Cumulative returns for the testing period, from: 2023-09 to: 2024-03\n",
      "Cumulative return: 0.05%\n",
      "---------------------------------------------------------------------\n",
      "Cumulative returns for the testing period, from: 2023-10 to: 2024-04\n",
      "Cumulative return: 2.49%\n",
      "---------------------------------------------------------------------\n",
      "Cumulative returns for the testing period, from: 2023-11 to: 2024-04\n",
      "Cumulative return: -0.78%\n",
      "---------------------------------------------------------------------\n",
      "Cumulative returns for the testing period, from: 2023-12 to: 2024-04\n",
      "Cumulative return: 0.13%\n",
      "---------------------------------------------------------------------\n"
     ]
    }
   ],
   "source": [
    "# Example usage of the backtesting results\n",
    "\n",
    "# each column represents the returns of a single testing period (12 mothn calubration and 6 month testing period)\n",
    "# col is a touple containing the returns of the testing period as a df\n",
    "\n",
    "for col in dm_backtest_returns:\n",
    "    \n",
    "    # Get start and end date of the testing period\n",
    "    start_date, end_date = col[0].index[0], col[0].index[-1]\n",
    "    start_date = start_date.strftime('%Y-%m')\n",
    "    end_date = end_date.strftime('%Y-%m')\n",
    "\n",
    "    # Cumulative return of a portfolio that is equally weighted for all the pairs\n",
    "    cum_return = col[0].sum().sum()\n",
    "    #cum_return = col[0].cumsum().iloc[-1].sum() # also works\n",
    "\n",
    "    print(f'Cumulative returns for the testing period, from: {start_date} to: {end_date}')\n",
    "    print(f'Cumulative return: {cum_return:.2f}%')\n",
    "    print('-'*69)"
   ]
  }
 ],
 "metadata": {
  "kernelspec": {
   "display_name": "Python 3",
   "language": "python",
   "name": "python3"
  },
  "language_info": {
   "codemirror_mode": {
    "name": "ipython",
    "version": 3
   },
   "file_extension": ".py",
   "mimetype": "text/x-python",
   "name": "python",
   "nbconvert_exporter": "python",
   "pygments_lexer": "ipython3",
   "version": "3.11.4"
  }
 },
 "nbformat": 4,
 "nbformat_minor": 2
}
