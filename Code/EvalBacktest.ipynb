{
 "cells": [
  {
   "cell_type": "markdown",
   "metadata": {},
   "source": [
    "# Backtes the three PTS Methods"
   ]
  },
  {
   "cell_type": "code",
   "execution_count": 1,
   "metadata": {},
   "outputs": [],
   "source": [
    "from Helpers.TstMethods import *\n",
    "from Helpers.FunctHelpers import *\n",
    "\n",
    "import matplotlib.pyplot as plt\n",
    "import pandas as pd"
   ]
  },
  {
   "cell_type": "code",
   "execution_count": 2,
   "metadata": {},
   "outputs": [
    {
     "name": "stdout",
     "output_type": "stream",
     "text": [
      "[*********************100%***********************]  65 of 65 completed"
     ]
    },
    {
     "name": "stderr",
     "output_type": "stream",
     "text": [
      "\n",
      "5 Failed downloads:\n",
      "['BRK.B', 'WLTW', 'FRC', 'PBCT', 'RE']: Exception('%ticker%: No timezone found, symbol may be delisted')\n"
     ]
    },
    {
     "name": "stdout",
     "output_type": "stream",
     "text": [
      "\n"
     ]
    }
   ],
   "source": [
    "# Donwnload data\n",
    "tickers = pd.read_excel('Data/SandP500list.xlsx')\n",
    "tickers = tickers[tickers['sector'] == 'Financials']\n",
    "names = tickers['symbol'].tolist()\n",
    "\n",
    "START_DATE = pd.to_datetime('2022-01-01')\n",
    "END_DATE = pd.to_datetime('2024-07-01')\n",
    "\n",
    "data = download_data(names, START_DATE, END_DATE)"
   ]
  },
  {
   "cell_type": "code",
   "execution_count": 3,
   "metadata": {},
   "outputs": [
    {
     "name": "stdout",
     "output_type": "stream",
     "text": [
      "Backtest Period: 1\n",
      "Start Date: 2022-01-01 End Date: 2023-07-01\n",
      "-------------------------------------------\n",
      "Backtest Period: 2\n",
      "Start Date: 2022-02-01 End Date: 2023-08-01\n",
      "-------------------------------------------\n",
      "Backtest Period: 3\n",
      "Start Date: 2022-03-01 End Date: 2023-09-01\n",
      "-------------------------------------------\n",
      "Backtest Period: 4\n",
      "Start Date: 2022-04-01 End Date: 2023-10-01\n",
      "-------------------------------------------\n",
      "Backtest Period: 5\n",
      "Start Date: 2022-05-01 End Date: 2023-11-01\n",
      "-------------------------------------------\n",
      "Backtest Period: 6\n",
      "Start Date: 2022-06-01 End Date: 2023-12-01\n",
      "-------------------------------------------\n"
     ]
    },
    {
     "ename": "KeyboardInterrupt",
     "evalue": "",
     "output_type": "error",
     "traceback": [
      "\u001b[0;31m---------------------------------------------------------------------------\u001b[0m",
      "\u001b[0;31mKeyboardInterrupt\u001b[0m                         Traceback (most recent call last)",
      "Cell \u001b[0;32mIn[3], line 24\u001b[0m\n\u001b[1;32m     21\u001b[0m train_data, test_data \u001b[38;5;241m=\u001b[39m train_test_split(data, train_start, train_end, test_start, test_end)\n\u001b[1;32m     23\u001b[0m \u001b[38;5;66;03m# Get Signals\u001b[39;00m\n\u001b[0;32m---> 24\u001b[0m dm_signals, dm_pairs \u001b[38;5;241m=\u001b[39m \u001b[43mdm_get_signals_pairs\u001b[49m\u001b[43m(\u001b[49m\u001b[43mtrain_data\u001b[49m\u001b[43m,\u001b[49m\u001b[43m \u001b[49m\u001b[43mtest_data\u001b[49m\u001b[43m)\u001b[49m\n\u001b[1;32m     26\u001b[0m coint_signals, coint_pairs \u001b[38;5;241m=\u001b[39m coint_get_signals_pairs(train_data, test_data) \u001b[38;5;66;03m#! Changes test df\u001b[39;00m\n\u001b[1;32m     27\u001b[0m \u001b[38;5;66;03m# copula_signals = copula_get_signals(train_data, test_data) # Copula signals are not implemented yet\u001b[39;00m\n\u001b[1;32m     28\u001b[0m \n\u001b[1;32m     29\u001b[0m \u001b[38;5;66;03m# Calculate Returns\u001b[39;00m\n",
      "File \u001b[0;32m~/Desktop/EBSUni/Msc_Semester_1/Empirical Finance/PairsTradingAll/Pairs-Trading-Strategy/Code/Helpers/TstMethods.py:25\u001b[0m, in \u001b[0;36mdm_get_signals_pairs\u001b[0;34m(train_data, test_data)\u001b[0m\n\u001b[1;32m     22\u001b[0m train_data_filled \u001b[38;5;241m=\u001b[39m train_data\u001b[38;5;241m.\u001b[39mffill()\u001b[38;5;241m.\u001b[39mbfill() \u001b[38;5;66;03m#! Temporary works for now, I know not good practice\u001b[39;00m\n\u001b[1;32m     23\u001b[0m train_data_cum \u001b[38;5;241m=\u001b[39m train_data_filled\u001b[38;5;241m.\u001b[39mpct_change(fill_method\u001b[38;5;241m=\u001b[39m\u001b[38;5;28;01mNone\u001b[39;00m)\u001b[38;5;241m.\u001b[39mcumsum()\n\u001b[0;32m---> 25\u001b[0m ssd_train \u001b[38;5;241m=\u001b[39m \u001b[43mfind_ssd\u001b[49m\u001b[43m(\u001b[49m\u001b[43mtrain_data_cum\u001b[49m\u001b[43m)\u001b[49m\n\u001b[1;32m     26\u001b[0m pairs \u001b[38;5;241m=\u001b[39m select_lowest_ssd(ssd_train, train_data_cum)\n\u001b[1;32m     28\u001b[0m \u001b[38;5;66;03m# Get stdev from tet and get trading signals\u001b[39;00m\n",
      "File \u001b[0;32m~/Desktop/EBSUni/Msc_Semester_1/Empirical Finance/PairsTradingAll/Pairs-Trading-Strategy/Code/Helpers/FunctHelpers.py:63\u001b[0m, in \u001b[0;36mfind_ssd\u001b[0;34m(data)\u001b[0m\n\u001b[1;32m     61\u001b[0m \u001b[38;5;28;01mfor\u001b[39;00m i \u001b[38;5;129;01min\u001b[39;00m \u001b[38;5;28mrange\u001b[39m(n):\n\u001b[1;32m     62\u001b[0m     \u001b[38;5;28;01mfor\u001b[39;00m j \u001b[38;5;129;01min\u001b[39;00m \u001b[38;5;28mrange\u001b[39m(i \u001b[38;5;241m+\u001b[39m \u001b[38;5;241m1\u001b[39m, n):\n\u001b[0;32m---> 63\u001b[0m         ssd[i, j] \u001b[38;5;241m=\u001b[39m np\u001b[38;5;241m.\u001b[39msum(\u001b[43m(\u001b[49m\u001b[43mdata\u001b[49m\u001b[38;5;241;43m.\u001b[39;49m\u001b[43miloc\u001b[49m\u001b[43m[\u001b[49m\u001b[43m:\u001b[49m\u001b[43m,\u001b[49m\u001b[43m \u001b[49m\u001b[43mi\u001b[49m\u001b[43m]\u001b[49m\u001b[43m \u001b[49m\u001b[38;5;241;43m-\u001b[39;49m\u001b[43m \u001b[49m\u001b[43mdata\u001b[49m\u001b[38;5;241;43m.\u001b[39;49m\u001b[43miloc\u001b[49m\u001b[43m[\u001b[49m\u001b[43m:\u001b[49m\u001b[43m,\u001b[49m\u001b[43m \u001b[49m\u001b[43mj\u001b[49m\u001b[43m]\u001b[49m\u001b[43m)\u001b[49m\u001b[38;5;241;43m*\u001b[39;49m\u001b[38;5;241;43m*\u001b[39;49m\u001b[38;5;241;43m2\u001b[39;49m)\n\u001b[1;32m     65\u001b[0m \u001b[38;5;28;01mreturn\u001b[39;00m ssd\n",
      "File \u001b[0;32m/Library/Frameworks/Python.framework/Versions/3.11/lib/python3.11/site-packages/pandas/core/ops/common.py:76\u001b[0m, in \u001b[0;36m_unpack_zerodim_and_defer.<locals>.new_method\u001b[0;34m(self, other)\u001b[0m\n\u001b[1;32m     72\u001b[0m             \u001b[38;5;28;01mreturn\u001b[39;00m \u001b[38;5;28mNotImplemented\u001b[39m\n\u001b[1;32m     74\u001b[0m other \u001b[38;5;241m=\u001b[39m item_from_zerodim(other)\n\u001b[0;32m---> 76\u001b[0m \u001b[38;5;28;01mreturn\u001b[39;00m \u001b[43mmethod\u001b[49m\u001b[43m(\u001b[49m\u001b[38;5;28;43mself\u001b[39;49m\u001b[43m,\u001b[49m\u001b[43m \u001b[49m\u001b[43mother\u001b[49m\u001b[43m)\u001b[49m\n",
      "File \u001b[0;32m/Library/Frameworks/Python.framework/Versions/3.11/lib/python3.11/site-packages/pandas/core/arraylike.py:242\u001b[0m, in \u001b[0;36mOpsMixin.__pow__\u001b[0;34m(self, other)\u001b[0m\n\u001b[1;32m    240\u001b[0m \u001b[38;5;129m@unpack_zerodim_and_defer\u001b[39m(\u001b[38;5;124m\"\u001b[39m\u001b[38;5;124m__pow__\u001b[39m\u001b[38;5;124m\"\u001b[39m)\n\u001b[1;32m    241\u001b[0m \u001b[38;5;28;01mdef\u001b[39;00m \u001b[38;5;21m__pow__\u001b[39m(\u001b[38;5;28mself\u001b[39m, other):\n\u001b[0;32m--> 242\u001b[0m     \u001b[38;5;28;01mreturn\u001b[39;00m \u001b[38;5;28;43mself\u001b[39;49m\u001b[38;5;241;43m.\u001b[39;49m\u001b[43m_arith_method\u001b[49m\u001b[43m(\u001b[49m\u001b[43mother\u001b[49m\u001b[43m,\u001b[49m\u001b[43m \u001b[49m\u001b[43moperator\u001b[49m\u001b[38;5;241;43m.\u001b[39;49m\u001b[43mpow\u001b[49m\u001b[43m)\u001b[49m\n",
      "File \u001b[0;32m/Library/Frameworks/Python.framework/Versions/3.11/lib/python3.11/site-packages/pandas/core/series.py:5814\u001b[0m, in \u001b[0;36mSeries._arith_method\u001b[0;34m(self, other, op)\u001b[0m\n\u001b[1;32m   5813\u001b[0m \u001b[38;5;28;01mdef\u001b[39;00m \u001b[38;5;21m_arith_method\u001b[39m(\u001b[38;5;28mself\u001b[39m, other, op):\n\u001b[0;32m-> 5814\u001b[0m     \u001b[38;5;28mself\u001b[39m, other \u001b[38;5;241m=\u001b[39m \u001b[38;5;28;43mself\u001b[39;49m\u001b[38;5;241;43m.\u001b[39;49m\u001b[43m_align_for_op\u001b[49m\u001b[43m(\u001b[49m\u001b[43mother\u001b[49m\u001b[43m)\u001b[49m\n\u001b[1;32m   5815\u001b[0m     \u001b[38;5;28;01mreturn\u001b[39;00m base\u001b[38;5;241m.\u001b[39mIndexOpsMixin\u001b[38;5;241m.\u001b[39m_arith_method(\u001b[38;5;28mself\u001b[39m, other, op)\n",
      "File \u001b[0;32m/Library/Frameworks/Python.framework/Versions/3.11/lib/python3.11/site-packages/pandas/core/series.py:5817\u001b[0m, in \u001b[0;36mSeries._align_for_op\u001b[0;34m(self, right, align_asobject)\u001b[0m\n\u001b[1;32m   5814\u001b[0m     \u001b[38;5;28mself\u001b[39m, other \u001b[38;5;241m=\u001b[39m \u001b[38;5;28mself\u001b[39m\u001b[38;5;241m.\u001b[39m_align_for_op(other)\n\u001b[1;32m   5815\u001b[0m     \u001b[38;5;28;01mreturn\u001b[39;00m base\u001b[38;5;241m.\u001b[39mIndexOpsMixin\u001b[38;5;241m.\u001b[39m_arith_method(\u001b[38;5;28mself\u001b[39m, other, op)\n\u001b[0;32m-> 5817\u001b[0m \u001b[38;5;28;01mdef\u001b[39;00m \u001b[38;5;21m_align_for_op\u001b[39m(\u001b[38;5;28mself\u001b[39m, right, align_asobject: \u001b[38;5;28mbool\u001b[39m \u001b[38;5;241m=\u001b[39m \u001b[38;5;28;01mFalse\u001b[39;00m):\n\u001b[1;32m   5818\u001b[0m \u001b[38;5;250m    \u001b[39m\u001b[38;5;124;03m\"\"\"align lhs and rhs Series\"\"\"\u001b[39;00m\n\u001b[1;32m   5819\u001b[0m     \u001b[38;5;66;03m# TODO: Different from DataFrame._align_for_op, list, tuple and ndarray\u001b[39;00m\n\u001b[1;32m   5820\u001b[0m     \u001b[38;5;66;03m# are not coerced here\u001b[39;00m\n\u001b[1;32m   5821\u001b[0m     \u001b[38;5;66;03m# because Series has inconsistencies described in GH#13637\u001b[39;00m\n",
      "\u001b[0;31mKeyboardInterrupt\u001b[0m: "
     ]
    }
   ],
   "source": [
    "# Performe rolling backtest of the Three PTS Methods\n",
    "\n",
    "# Define the number of testing periods\n",
    "num_testing_peiods = pd.to_datetime(END_DATE) - pd.to_datetime(START_DATE)\n",
    "start_date, end_date = START_DATE, START_DATE + pd.DateOffset(months=18)\n",
    "\n",
    "# define lists to store the signals and returns\n",
    "dm_backtest_signals = []\n",
    "dm_backtest_returns = []\n",
    "\n",
    "coint_backtest_signals = []\n",
    "coint_backtest_returns = []\n",
    "\n",
    "copula_backtest_signals =[]\n",
    "copula_backtest_returns = []\n",
    "\n",
    "for i in range(num_testing_peiods.days):\n",
    "\n",
    "    # Split data into training and testing\n",
    "    train_start, train_end, test_start, test_end = train_test_dates(start_date)\n",
    "    train_data, test_data = train_test_split(data, train_start, train_end, test_start, test_end)\n",
    "\n",
    "    # Get Signals\n",
    "    dm_signals, dm_pairs = dm_get_signals_pairs(train_data, test_data)\n",
    "\n",
    "    coint_signals, coint_pairs = coint_get_signals_pairs(train_data, test_data) #! Changes test df\n",
    "    # copula_signals = copula_get_signals(train_data, test_data) # Copula signals are not implemented yet\n",
    "\n",
    "    # Calculate Returns\n",
    "    dm_daily_returns_pct = calculate_returns(dm_signals, dm_pairs, test_data)\n",
    "    dm_backtest_returns.append(dm_daily_returns_pct)\n",
    "\n",
    "    coint_daily_returns_pct = calculate_returns(coint_signals, coint_pairs, test_data)\n",
    "    coint_backtest_returns.append(coint_daily_returns_pct)\n",
    "\n",
    "    # copula_daily_returns_pct = calculate_returns(copula_signals, copula_pairs, test_data)\n",
    "    # copula_backtest_returns.append(copula_daily_returns_pct)\n",
    "\n",
    "    # Update Dates, Print Info and beak\n",
    "    print_backtest_info(i, start_date, end_date)\n",
    "    start_date, end_date = update_dates(start_date)\n",
    "    if (pd.to_datetime(end_date)) == pd.to_datetime(END_DATE):\n",
    "        break\n",
    "\n"
   ]
  },
  {
   "cell_type": "code",
   "execution_count": null,
   "metadata": {},
   "outputs": [],
   "source": []
  }
 ],
 "metadata": {
  "kernelspec": {
   "display_name": "Python 3",
   "language": "python",
   "name": "python3"
  },
  "language_info": {
   "codemirror_mode": {
    "name": "ipython",
    "version": 3
   },
   "file_extension": ".py",
   "mimetype": "text/x-python",
   "name": "python",
   "nbconvert_exporter": "python",
   "pygments_lexer": "ipython3",
   "version": "3.11.4"
  }
 },
 "nbformat": 4,
 "nbformat_minor": 2
}
