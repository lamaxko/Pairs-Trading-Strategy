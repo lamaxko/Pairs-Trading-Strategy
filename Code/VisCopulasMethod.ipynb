{
 "cells": [
  {
   "cell_type": "code",
   "execution_count": 1,
   "metadata": {},
   "outputs": [],
   "source": [
    "import pandas as pd\n",
    "import rpy2 as rpy2\n",
    "import rpy2.robjects as robjects\n",
    "\n",
    "from rpy2.robjects.packages import importr\n",
    "from rpy2.robjects import pandas2ri\n",
    "from Helpers.FunctHelpers import *\n",
    "from Helpers.PlotHelpers import *"
   ]
  },
  {
   "cell_type": "code",
   "execution_count": 2,
   "metadata": {},
   "outputs": [
    {
     "name": "stdout",
     "output_type": "stream",
     "text": [
      "[*********************100%***********************]  65 of 65 completed"
     ]
    },
    {
     "name": "stderr",
     "output_type": "stream",
     "text": [
      "\n",
      "6 Failed downloads:\n",
      "['RE', 'BRK.B', 'WLTW', 'FRC', 'PBCT']: Exception('%ticker%: No timezone found, symbol may be delisted')\n",
      "['SIVB']: Exception(\"%ticker%: Period 'max' is invalid, must be one of ['1d', '5d']\")\n"
     ]
    },
    {
     "name": "stdout",
     "output_type": "stream",
     "text": [
      "\n"
     ]
    }
   ],
   "source": [
    "# Download data\n",
    "\n",
    "tickers = pd.read_excel('Data/SandP500list.xlsx')\n",
    "tickers = tickers[tickers['sector'] == 'Financials']\n",
    "names = tickers['symbol'].tolist()\n",
    "\n",
    "start_date = pd.to_datetime('2022-01-01') # train 12 months\n",
    "end_date = pd.to_datetime('2023-07-01') # test 6 months\n",
    "\n",
    "data = download_data(names, start_date, end_date)"
   ]
  },
  {
   "cell_type": "code",
   "execution_count": 3,
   "metadata": {},
   "outputs": [
    {
     "name": "stdout",
     "output_type": "stream",
     "text": [
      "(251, 59) (124, 59)\n"
     ]
    }
   ],
   "source": [
    "# Split into train and test data\n",
    "\n",
    "train_start = pd.to_datetime('2022-01-01')\n",
    "train_end = pd.to_datetime('2022-12-31')\n",
    "test_start = pd.to_datetime('2023-01-01')\n",
    "test_end = pd.to_datetime('2023-07-01')\n",
    "\n",
    "train_data, test_data = train_test_split(data, train_start, train_end, test_start, test_end)\n",
    "print(train_data.shape, test_data.shape)"
   ]
  },
  {
   "cell_type": "code",
   "execution_count": 4,
   "metadata": {},
   "outputs": [
    {
     "name": "stdout",
     "output_type": "stream",
     "text": [
      "                           AFL        AIG         AIZ         AJG         ALL  \\\n",
      "Date                                                                            \n",
      "2022-01-03 00:00:00  55.144173  54.488396  149.792618  162.668793  111.111961   \n",
      "2022-01-04 00:00:00  56.951717  56.016994  151.201721  163.371338  113.798851   \n",
      "2022-01-05 00:00:00  56.857086  55.247948  149.830963  160.307465  113.695503   \n",
      "2022-01-06 00:00:00  57.907539  56.197392  149.370880  162.054062  114.992004   \n",
      "2022-01-07 00:00:00  58.825500  57.669022  152.160233  161.351562  118.327141   \n",
      "\n",
      "                            AMP         AON         AXP        BAC        BEN  \\\n",
      "Date                                                                            \n",
      "2022-01-03 00:00:00  293.325745  288.268799  162.605362  43.460335  30.134270   \n",
      "2022-01-04 00:00:00  306.649139  289.281250  167.825394  45.163734  30.864849   \n",
      "2022-01-05 00:00:00  303.621948  288.032806  166.037048  44.401436  30.540146   \n",
      "2022-01-06 00:00:00  307.728851  285.575226  167.558533  45.295486  30.756615   \n",
      "2022-01-07 00:00:00  307.854187  277.986084  168.992828  46.283649  31.712683   \n",
      "\n",
      "                     ...        SPGI        STT        SYF        TFC  \\\n",
      "Date                 ...                                                \n",
      "2022-01-03 00:00:00  ...  451.641479  87.303322  44.228535  53.700550   \n",
      "2022-01-04 00:00:00  ...  450.387756  90.880501  45.320133  55.434258   \n",
      "2022-01-05 00:00:00  ...  446.411041  89.799034  44.143841  54.829685   \n",
      "2022-01-06 00:00:00  ...  442.688995  91.435089  44.755512  56.883465   \n",
      "2022-01-07 00:00:00  ...  437.585907  93.967766  45.367184  57.790321   \n",
      "\n",
      "                           TROW         TRV        USB        WFC        WRB  \\\n",
      "Date                                                                           \n",
      "2022-01-03 00:00:00  176.628632  148.391891  51.485363  47.726673  51.885223   \n",
      "2022-01-04 00:00:00  177.118790  151.488373  52.833847  49.627090  52.657822   \n",
      "2022-01-05 00:00:00  170.183640  152.222000  52.555161  49.194324  52.070393   \n",
      "2022-01-06 00:00:00  172.489319  154.661041  53.984558  50.454994  52.957916   \n",
      "2022-01-07 00:00:00  173.905411  158.386337  54.838600  51.527504  54.005070   \n",
      "\n",
      "                          ZION  \n",
      "Date                            \n",
      "2022-01-03 00:00:00  58.917263  \n",
      "2022-01-04 00:00:00  60.595638  \n",
      "2022-01-05 00:00:00  60.733215  \n",
      "2022-01-06 00:00:00  63.227840  \n",
      "2022-01-07 00:00:00  64.282555  \n",
      "\n",
      "[5 rows x 59 columns]\n"
     ]
    }
   ],
   "source": [
    "print(train_data.head())    "
   ]
  },
  {
   "cell_type": "code",
   "execution_count": 5,
   "metadata": {},
   "outputs": [
    {
     "name": "stdout",
     "output_type": "stream",
     "text": [
      "Choosen pairs: 20 from 1711 posssible pairs\n"
     ]
    }
   ],
   "source": [
    "# Calculate SSD and select 20 pairs with lowest SSD\n",
    "\n",
    "train_data_cum = train_data.pct_change().cumsum().dropna(axis=0)\n",
    "\n",
    "ssd_train = find_ssd(train_data_cum)\n",
    "pairs = select_lowest_ssd(ssd_train, train_data_cum)\n",
    "\n",
    "print(f'Choosen pairs: {len(pairs)} from {round(len(data.columns) * (len(data.columns) - 1) / 2)} posssible pairs')"
   ]
  },
  {
   "cell_type": "code",
   "execution_count": 6,
   "metadata": {},
   "outputs": [],
   "source": [
    "#plot_min_ssd_pairs(pairs, train_data_cum)"
   ]
  },
  {
   "cell_type": "code",
   "execution_count": 7,
   "metadata": {},
   "outputs": [],
   "source": [
    "import pandas as pd\n",
    "import numpy as np\n",
    "from scipy.stats import norm, logistic, genextreme\n",
    "\n",
    "def fit_distributions_and_calculate_aic(data, pairs):\n",
    "    \"\"\"\n",
    "    Fits distributions to stock returns and calculates AIC values for each distribution for each stock in each pair.\n",
    "    \"\"\"\n",
    "    # Calculate daily returns from cumulative returns\n",
    "    returns = data.pct_change().dropna(axis=0)\n",
    "\n",
    "    def fit_distribution(rdata, dist_name):\n",
    "        dist = {'norm': norm, 'logistic': logistic, 'genextreme': genextreme}[dist_name]\n",
    "        params = dist.fit(rdata)\n",
    "        nll = -np.sum(dist.logpdf(rdata, *params))\n",
    "        aic = 2 * len(params) + 2 * nll\n",
    "        return params, aic\n",
    "\n",
    "    results = {}\n",
    "    for stock1, stock2 in pairs:\n",
    "        results[stock1] = {}\n",
    "        results[stock2] = {}\n",
    "        for stock in [stock1, stock2]:\n",
    "            if stock in returns.columns:\n",
    "                results[stock] = {}\n",
    "                for dist_name in ['norm', 'logistic', 'genextreme']:\n",
    "                    params, aic = fit_distribution(returns[stock], dist_name)\n",
    "                    results[stock][dist_name] = {'params': params, 'aic': aic}\n",
    "    return results\n",
    "\n",
    "# Example stock data and pairs\n",
    "# Run the fitting function\n",
    "fit_results = fit_distributions_and_calculate_aic(train_data, pairs)"
   ]
  },
  {
   "cell_type": "code",
   "execution_count": 8,
   "metadata": {},
   "outputs": [
    {
     "name": "stdout",
     "output_type": "stream",
     "text": [
      "        MCO      SPGI      NTRS       USB      FITB       KEY       AFL  \\\n",
      "0  0.493615  0.329498  0.945461  0.533142  0.963320  0.981927  0.976153   \n",
      "1  0.085225  0.228671  0.404501  0.350469  0.473327  0.427856  0.539379   \n",
      "2  0.285101  0.236342  0.710681  0.541133  0.960683  0.979205  0.893467   \n",
      "3  0.292721  0.188646  0.891882  0.460304  0.664538  0.766843  0.865622   \n",
      "4  0.054466  0.048627  0.464746  0.403473  0.523585  0.517857  0.816139   \n",
      "\n",
      "        MET       AIG       HIG  ...       TFC         C        GL       ALL  \\\n",
      "0  0.945632  0.889873  0.855227  ...  0.868540  0.699432  0.566059  0.573407   \n",
      "1  0.410549  0.257497  0.334981  ...  0.209989  0.331805  0.365096  0.367995   \n",
      "2  0.952345  0.777262  0.815955  ...  0.910285  0.927731  0.488620  0.451736   \n",
      "3  0.778425  0.874234  0.663914  ...  0.661924  0.775473  0.484266  0.634288   \n",
      "4  0.607462  0.690205  0.416447  ...  0.464367  0.635974  0.378969  0.279207   \n",
      "\n",
      "        TRV       AON       MMC        CB       BAC        BK  \n",
      "0  0.915053  0.385547  0.348892  0.920914  0.962194  0.948799  \n",
      "1  0.658850  0.346360  0.119761  0.314214  0.227376  0.391849  \n",
      "2  0.861285  0.327429  0.607602  0.908586  0.842868  0.811427  \n",
      "3  0.940990  0.260008  0.083199  0.858630  0.859065  0.789328  \n",
      "4  0.214107  0.353716  0.543994  0.228061  0.447604  0.653288  \n",
      "\n",
      "[5 rows x 24 columns]\n"
     ]
    }
   ],
   "source": [
    "def transform_returns_to_uniform(data, gev_params):\n",
    "    \"\"\"\n",
    "    Transforms returns to uniform distributions using the GEV distribution CDF.\n",
    "    \"\"\"\n",
    "    returns = data.pct_change().dropna()\n",
    "    uniform_data = {stock: genextreme.cdf(returns[stock], *params) for stock, params in gev_params.items() if stock in returns}\n",
    "    return pd.DataFrame(uniform_data)\n",
    "\n",
    "\n",
    "# Correctly extract GEV parameters\n",
    "gev_params = {}\n",
    "for stock, dist_results in fit_results.items():\n",
    "    if 'genextreme' in dist_results:\n",
    "        gev_params[stock] = dist_results['genextreme']['params']\n",
    "\n",
    "uniform_data = transform_returns_to_uniform(train_data, gev_params)\n",
    "print(uniform_data.head())\n"
   ]
  },
  {
   "cell_type": "code",
   "execution_count": 13,
   "metadata": {},
   "outputs": [],
   "source": [
    "import rpy2.robjects as ro\n",
    "from rpy2.robjects import pandas2ri\n",
    "from rpy2.robjects.packages import importr\n",
    "import pandas as pd\n",
    "import os\n",
    "\n",
    "def fit_copulas_for_pairs(data, pairs):\n",
    "    pandas2ri.activate()\n",
    "    copula = importr('copula')\n",
    "\n",
    "    results = {}\n",
    "\n",
    "    ro.r('options(warn=-1)')  # Suppress R warnings\n",
    "    ro.r('sink(\"/dev/null\")')  # Suppress all R output\n",
    "\n",
    "    try:\n",
    "        for stock1, stock2 in pairs:\n",
    "            if stock1 in data.columns and stock2 in data.columns:\n",
    "                df_pair = data[[stock1, stock2]].dropna()\n",
    "                if df_pair.empty:\n",
    "                    continue\n",
    "\n",
    "                r_dataframe = pandas2ri.py2rpy(df_pair)\n",
    "                ro.globalenv['df'] = r_dataframe\n",
    "\n",
    "                r_script = \"\"\"\n",
    "                library(copula)\n",
    "                tryCatch({\n",
    "                    gumbelCop = gumbelCopula(dim = 2, dispstr = \"un\")\n",
    "                    claytonCop = claytonCopula(dim = 2, dispstr = \"un\")\n",
    "                    normalCop = normalCopula(dim = 2, dispstr = \"un\")\n",
    "                    fit_gumbel = suppressWarnings(fitCopula(gumbelCop, data=df, method=\"ml\"))\n",
    "                    fit_clayton = suppressWarnings(fitCopula(claytonCop, data=df, method=\"ml\"))\n",
    "                    fit_normal = suppressWarnings(fitCopula(normalCop, data=df, method=\"ml\"))\n",
    "                    list(gumbel = fit_gumbel, clayton = fit_clayton, normal = fit_normal)\n",
    "                }, error=function(e) list(error=toString(e)))\n",
    "                \"\"\"\n",
    "                result = ro.r(r_script)\n",
    "                results[(stock1, stock2)] = result\n",
    "\n",
    "    finally:\n",
    "        ro.r('sink(NULL)')  # Close the sink\n",
    "        ro.r('options(warn=0)')  # Restore default warning level\n",
    "\n",
    "    return results\n",
    "\n",
    "\n",
    "copula_results = fit_copulas_for_pairs(uniform_data, pairs)\n"
   ]
  },
  {
   "cell_type": "code",
   "execution_count": 16,
   "metadata": {},
   "outputs": [
    {
     "name": "stdout",
     "output_type": "stream",
     "text": [
      "dict_values([<rpy2.robjects.vectors.ListVector object at 0x12e2af450> [19]\n",
      "R classes: ('list',)\n",
      "[StrSexpVector]\n",
      "  error: <class 'rpy2.rinterface_lib.sexp.StrSexpVector'>\n",
      "  <rpy2.rinterface_lib.sexp.StrSexpVector object at 0x12e21ead0> [16], <rpy2.robjects.vectors.ListVector object at 0x12e2aea90> [19]\n",
      "R classes: ('list',)\n",
      "[StrSexpVector]\n",
      "  error: <class 'rpy2.rinterface_lib.sexp.StrSexpVector'>\n",
      "  <rpy2.rinterface_lib.sexp.StrSexpVector object at 0x12c33be50> [16], <rpy2.robjects.vectors.ListVector object at 0x12e2ae010> [19]\n",
      "R classes: ('list',)\n",
      "[StrSexpVector]\n",
      "  error: <class 'rpy2.rinterface_lib.sexp.StrSexpVector'>\n",
      "  <rpy2.rinterface_lib.sexp.StrSexpVector object at 0x12bd62110> [16], <rpy2.robjects.vectors.ListVector object at 0x12e2ad710> [19]\n",
      "R classes: ('list',)\n",
      "[StrSexpVector]\n",
      "  error: <class 'rpy2.rinterface_lib.sexp.StrSexpVector'>\n",
      "  <rpy2.rinterface_lib.sexp.StrSexpVector object at 0x12cb6c190> [16], <rpy2.robjects.vectors.ListVector object at 0x12e2acb90> [19]\n",
      "R classes: ('list',)\n",
      "[StrSexpVector]\n",
      "  error: <class 'rpy2.rinterface_lib.sexp.StrSexpVector'>\n",
      "  <rpy2.rinterface_lib.sexp.StrSexpVector object at 0x12e21ead0> [16], <rpy2.robjects.vectors.ListVector object at 0x12e2ac2d0> [19]\n",
      "R classes: ('list',)\n",
      "[StrSexpVector]\n",
      "  error: <class 'rpy2.rinterface_lib.sexp.StrSexpVector'>\n",
      "  <rpy2.rinterface_lib.sexp.StrSexpVector object at 0x12c3af650> [16], <rpy2.robjects.vectors.ListVector object at 0x12e2ab7d0> [19]\n",
      "R classes: ('list',)\n",
      "[StrSexpVector]\n",
      "  error: <class 'rpy2.rinterface_lib.sexp.StrSexpVector'>\n",
      "  <rpy2.rinterface_lib.sexp.StrSexpVector object at 0x12c33be50> [16], <rpy2.robjects.vectors.ListVector object at 0x12e2aa390> [19]\n",
      "R classes: ('list',)\n",
      "[StrSexpVector]\n",
      "  error: <class 'rpy2.rinterface_lib.sexp.StrSexpVector'>\n",
      "  <rpy2.rinterface_lib.sexp.StrSexpVector object at 0x12bd62110> [16], <rpy2.robjects.vectors.ListVector object at 0x12e2a9b10> [19]\n",
      "R classes: ('list',)\n",
      "[StrSexpVector]\n",
      "  error: <class 'rpy2.rinterface_lib.sexp.StrSexpVector'>\n",
      "  <rpy2.rinterface_lib.sexp.StrSexpVector object at 0x12defe8d0> [16], <rpy2.robjects.vectors.ListVector object at 0x12e2a8650> [19]\n",
      "R classes: ('list',)\n",
      "[StrSexpVector]\n",
      "  error: <class 'rpy2.rinterface_lib.sexp.StrSexpVector'>\n",
      "  <rpy2.rinterface_lib.sexp.StrSexpVector object at 0x12e089790> [16], <rpy2.robjects.vectors.ListVector object at 0x12e2a8090> [19]\n",
      "R classes: ('list',)\n",
      "[StrSexpVector]\n",
      "  error: <class 'rpy2.rinterface_lib.sexp.StrSexpVector'>\n",
      "  <rpy2.rinterface_lib.sexp.StrSexpVector object at 0x12dd1b810> [16], <rpy2.robjects.vectors.ListVector object at 0x12e29ecd0> [19]\n",
      "R classes: ('list',)\n",
      "[StrSexpVector]\n",
      "  error: <class 'rpy2.rinterface_lib.sexp.StrSexpVector'>\n",
      "  <rpy2.rinterface_lib.sexp.StrSexpVector object at 0x12cb6c190> [16], <rpy2.robjects.vectors.ListVector object at 0x12e29d410> [19]\n",
      "R classes: ('list',)\n",
      "[StrSexpVector]\n",
      "  error: <class 'rpy2.rinterface_lib.sexp.StrSexpVector'>\n",
      "  <rpy2.rinterface_lib.sexp.StrSexpVector object at 0x12e21ead0> [16], <rpy2.robjects.vectors.ListVector object at 0x12e29c050> [19]\n",
      "R classes: ('list',)\n",
      "[StrSexpVector]\n",
      "  error: <class 'rpy2.rinterface_lib.sexp.StrSexpVector'>\n",
      "  <rpy2.rinterface_lib.sexp.StrSexpVector object at 0x12c3af650> [16], <rpy2.robjects.vectors.ListVector object at 0x12e29e590> [19]\n",
      "R classes: ('list',)\n",
      "[StrSexpVector]\n",
      "  error: <class 'rpy2.rinterface_lib.sexp.StrSexpVector'>\n",
      "  <rpy2.rinterface_lib.sexp.StrSexpVector object at 0x12c33be50> [16], <rpy2.robjects.vectors.ListVector object at 0x12e29e1d0> [19]\n",
      "R classes: ('list',)\n",
      "[StrSexpVector]\n",
      "  error: <class 'rpy2.rinterface_lib.sexp.StrSexpVector'>\n",
      "  <rpy2.rinterface_lib.sexp.StrSexpVector object at 0x12bd62110> [16], <rpy2.robjects.vectors.ListVector object at 0x12e2d5b90> [19]\n",
      "R classes: ('list',)\n",
      "[StrSexpVector]\n",
      "  error: <class 'rpy2.rinterface_lib.sexp.StrSexpVector'>\n",
      "  <rpy2.rinterface_lib.sexp.StrSexpVector object at 0x12defe8d0> [16], <rpy2.robjects.vectors.ListVector object at 0x12e2a9050> [19]\n",
      "R classes: ('list',)\n",
      "[StrSexpVector]\n",
      "  error: <class 'rpy2.rinterface_lib.sexp.StrSexpVector'>\n",
      "  <rpy2.rinterface_lib.sexp.StrSexpVector object at 0x12e089790> [16], <rpy2.robjects.vectors.ListVector object at 0x12e2a9cd0> [19]\n",
      "R classes: ('list',)\n",
      "[StrSexpVector]\n",
      "  error: <class 'rpy2.rinterface_lib.sexp.StrSexpVector'>\n",
      "  <rpy2.rinterface_lib.sexp.StrSexpVector object at 0x12dd1b810> [16], <rpy2.robjects.vectors.ListVector object at 0x12e2ab9d0> [19]\n",
      "R classes: ('list',)\n",
      "[StrSexpVector]\n",
      "  error: <class 'rpy2.rinterface_lib.sexp.StrSexpVector'>\n",
      "  <rpy2.rinterface_lib.sexp.StrSexpVector object at 0x12cb6c190> [16]])\n"
     ]
    }
   ],
   "source": []
  }
 ],
 "metadata": {
  "kernelspec": {
   "display_name": "Python 3",
   "language": "python",
   "name": "python3"
  },
  "language_info": {
   "codemirror_mode": {
    "name": "ipython",
    "version": 3
   },
   "file_extension": ".py",
   "mimetype": "text/x-python",
   "name": "python",
   "nbconvert_exporter": "python",
   "pygments_lexer": "ipython3",
   "version": "3.11.4"
  }
 },
 "nbformat": 4,
 "nbformat_minor": 2
}
