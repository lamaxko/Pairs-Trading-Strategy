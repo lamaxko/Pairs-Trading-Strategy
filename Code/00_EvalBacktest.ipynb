{
 "cells": [
  {
   "cell_type": "markdown",
   "metadata": {},
   "source": [
    "# Backtes the three PTS Methods"
   ]
  },
  {
   "cell_type": "code",
   "execution_count": 1,
   "metadata": {},
   "outputs": [],
   "source": [
    "import pandas as pd\n",
    "\n",
    "from Methods.DmHelpers import *\n",
    "from Methods.CointHelpers import *\n",
    "from Methods.CopulasHelpers import *\n",
    "\n",
    "from Helpers.DataHelpers import *\n",
    "from Helpers.PlotHelpers import *\n",
    "from Helpers.ModuleHelpers import *\n",
    "from Helpers.BacktestHelpers import *"
   ]
  },
  {
   "cell_type": "code",
   "execution_count": 2,
   "metadata": {},
   "outputs": [
    {
     "name": "stdout",
     "output_type": "stream",
     "text": [
      "[*********************100%***********************]  65 of 65 completed"
     ]
    },
    {
     "name": "stderr",
     "output_type": "stream",
     "text": [
      "\n",
      "6 Failed downloads:\n",
      "['BRK.B', 'PBCT', 'WLTW', 'FRC', 'RE']: Exception('%ticker%: No timezone found, symbol may be delisted')\n",
      "['SIVB']: Exception(\"%ticker%: Period 'max' is invalid, must be one of ['1d', '5d']\")\n"
     ]
    },
    {
     "name": "stdout",
     "output_type": "stream",
     "text": [
      "\n"
     ]
    }
   ],
   "source": [
    "# Donwnload data\n",
    "tickers = pd.read_excel('Data/SandP500list.xlsx')\n",
    "tickers = tickers[tickers['sector'] == 'Financials']\n",
    "names = tickers['symbol'].tolist()\n",
    "\n",
    "START_DATE = pd.to_datetime('2020-01-01') # Every year takes approximately 30 seconds for coint and dm\n",
    "END_DATE = pd.to_datetime('2024-04-01') # test 6 months yyy\n",
    "\n",
    "data = download_data(names, START_DATE, END_DATE)"
   ]
  },
  {
   "cell_type": "code",
   "execution_count": 3,
   "metadata": {},
   "outputs": [
    {
     "name": "stdout",
     "output_type": "stream",
     "text": [
      "Training from 2020-01-01 00:00:00 to 2021-01-01 00:00:00 and testing from 2021-01-01 00:00:00 to 2021-07-01 00:00:00\n",
      "Backtest Period: 1\n",
      "Start Date: 2020-01-01 End Date: 2021-07-01\n",
      "-------------------------------------------\n",
      "Training from 2020-02-01 00:00:00 to 2021-02-01 00:00:00 and testing from 2021-02-01 00:00:00 to 2021-08-01 00:00:00\n",
      "Backtest Period: 2\n",
      "Start Date: 2020-02-01 End Date: 2021-08-01\n",
      "-------------------------------------------\n",
      "Training from 2020-03-01 00:00:00 to 2021-03-01 00:00:00 and testing from 2021-03-01 00:00:00 to 2021-09-01 00:00:00\n",
      "Backtest Period: 3\n",
      "Start Date: 2020-03-01 End Date: 2021-09-01\n",
      "-------------------------------------------\n",
      "Training from 2020-04-01 00:00:00 to 2021-04-01 00:00:00 and testing from 2021-04-01 00:00:00 to 2021-10-01 00:00:00\n",
      "Backtest Period: 4\n",
      "Start Date: 2020-04-01 End Date: 2021-10-01\n",
      "-------------------------------------------\n",
      "Training from 2020-05-01 00:00:00 to 2021-05-01 00:00:00 and testing from 2021-05-01 00:00:00 to 2021-11-01 00:00:00\n",
      "Backtest Period: 5\n",
      "Start Date: 2020-05-01 End Date: 2021-11-01\n",
      "-------------------------------------------\n",
      "Training from 2020-06-01 00:00:00 to 2021-06-01 00:00:00 and testing from 2021-06-01 00:00:00 to 2021-12-01 00:00:00\n",
      "Backtest Period: 6\n",
      "Start Date: 2020-06-01 End Date: 2021-12-01\n",
      "-------------------------------------------\n",
      "Training from 2020-07-01 00:00:00 to 2021-07-01 00:00:00 and testing from 2021-07-01 00:00:00 to 2022-01-01 00:00:00\n",
      "Backtest Period: 7\n",
      "Start Date: 2020-07-01 End Date: 2022-01-01\n",
      "-------------------------------------------\n",
      "Training from 2020-08-01 00:00:00 to 2021-08-01 00:00:00 and testing from 2021-08-01 00:00:00 to 2022-02-01 00:00:00\n",
      "Backtest Period: 8\n",
      "Start Date: 2020-08-01 End Date: 2022-02-01\n",
      "-------------------------------------------\n",
      "Training from 2020-09-01 00:00:00 to 2021-09-01 00:00:00 and testing from 2021-09-01 00:00:00 to 2022-03-01 00:00:00\n",
      "Backtest Period: 9\n",
      "Start Date: 2020-09-01 End Date: 2022-03-01\n",
      "-------------------------------------------\n",
      "Training from 2020-10-01 00:00:00 to 2021-10-01 00:00:00 and testing from 2021-10-01 00:00:00 to 2022-04-01 00:00:00\n",
      "Backtest Period: 10\n",
      "Start Date: 2020-10-01 End Date: 2022-04-01\n",
      "-------------------------------------------\n",
      "Training from 2020-11-01 00:00:00 to 2021-11-01 00:00:00 and testing from 2021-11-01 00:00:00 to 2022-05-01 00:00:00\n",
      "Backtest Period: 11\n",
      "Start Date: 2020-11-01 End Date: 2022-05-01\n",
      "-------------------------------------------\n",
      "Training from 2020-12-01 00:00:00 to 2021-12-01 00:00:00 and testing from 2021-12-01 00:00:00 to 2022-06-01 00:00:00\n",
      "Backtest Period: 12\n",
      "Start Date: 2020-12-01 End Date: 2022-06-01\n",
      "-------------------------------------------\n",
      "Training from 2021-01-01 00:00:00 to 2022-01-01 00:00:00 and testing from 2022-01-01 00:00:00 to 2022-07-01 00:00:00\n",
      "Backtest Period: 13\n",
      "Start Date: 2021-01-01 End Date: 2022-07-01\n",
      "-------------------------------------------\n",
      "Training from 2021-02-01 00:00:00 to 2022-02-01 00:00:00 and testing from 2022-02-01 00:00:00 to 2022-08-01 00:00:00\n",
      "Backtest Period: 14\n",
      "Start Date: 2021-02-01 End Date: 2022-08-01\n",
      "-------------------------------------------\n",
      "Training from 2021-03-01 00:00:00 to 2022-03-01 00:00:00 and testing from 2022-03-01 00:00:00 to 2022-09-01 00:00:00\n"
     ]
    },
    {
     "name": "stderr",
     "output_type": "stream",
     "text": [
      "/Users/lasse/Desktop/EBSUni/Msc_Semester_1/Empirical Finance/PairsTradingAll/Pairs-Trading-Strategy/Code/Methods/CopulasHelpers.py:211: RuntimeWarning: invalid value encountered in divide\n",
      "  conditional_cdf = t.cdf(numerator / denominator, df=nu + 1)\n"
     ]
    },
    {
     "name": "stdout",
     "output_type": "stream",
     "text": [
      "Backtest Period: 15\n",
      "Start Date: 2021-03-01 End Date: 2022-09-01\n",
      "-------------------------------------------\n",
      "Training from 2021-04-01 00:00:00 to 2022-04-01 00:00:00 and testing from 2022-04-01 00:00:00 to 2022-10-01 00:00:00\n",
      "Backtest Period: 16\n",
      "Start Date: 2021-04-01 End Date: 2022-10-01\n",
      "-------------------------------------------\n",
      "Training from 2021-05-01 00:00:00 to 2022-05-01 00:00:00 and testing from 2022-05-01 00:00:00 to 2022-11-01 00:00:00\n",
      "Backtest Period: 17\n",
      "Start Date: 2021-05-01 End Date: 2022-11-01\n",
      "-------------------------------------------\n",
      "Training from 2021-06-01 00:00:00 to 2022-06-01 00:00:00 and testing from 2022-06-01 00:00:00 to 2022-12-01 00:00:00\n",
      "Backtest Period: 18\n",
      "Start Date: 2021-06-01 End Date: 2022-12-01\n",
      "-------------------------------------------\n",
      "Training from 2021-07-01 00:00:00 to 2022-07-01 00:00:00 and testing from 2022-07-01 00:00:00 to 2023-01-01 00:00:00\n",
      "Backtest Period: 19\n",
      "Start Date: 2021-07-01 End Date: 2023-01-01\n",
      "-------------------------------------------\n",
      "Training from 2021-08-01 00:00:00 to 2022-08-01 00:00:00 and testing from 2022-08-01 00:00:00 to 2023-02-01 00:00:00\n",
      "Backtest Period: 20\n",
      "Start Date: 2021-08-01 End Date: 2023-02-01\n",
      "-------------------------------------------\n",
      "Training from 2021-09-01 00:00:00 to 2022-09-01 00:00:00 and testing from 2022-09-01 00:00:00 to 2023-03-01 00:00:00\n",
      "Backtest Period: 21\n",
      "Start Date: 2021-09-01 End Date: 2023-03-01\n",
      "-------------------------------------------\n",
      "Training from 2021-10-01 00:00:00 to 2022-10-01 00:00:00 and testing from 2022-10-01 00:00:00 to 2023-04-01 00:00:00\n",
      "Backtest Period: 22\n",
      "Start Date: 2021-10-01 End Date: 2023-04-01\n",
      "-------------------------------------------\n",
      "Training from 2021-11-01 00:00:00 to 2022-11-01 00:00:00 and testing from 2022-11-01 00:00:00 to 2023-05-01 00:00:00\n",
      "Backtest Period: 23\n",
      "Start Date: 2021-11-01 End Date: 2023-05-01\n",
      "-------------------------------------------\n",
      "Training from 2021-12-01 00:00:00 to 2022-12-01 00:00:00 and testing from 2022-12-01 00:00:00 to 2023-06-01 00:00:00\n",
      "Backtest Period: 24\n",
      "Start Date: 2021-12-01 End Date: 2023-06-01\n",
      "-------------------------------------------\n",
      "Training from 2022-01-01 00:00:00 to 2023-01-01 00:00:00 and testing from 2023-01-01 00:00:00 to 2023-07-01 00:00:00\n",
      "Backtest Period: 25\n",
      "Start Date: 2022-01-01 End Date: 2023-07-01\n",
      "-------------------------------------------\n",
      "Training from 2022-02-01 00:00:00 to 2023-02-01 00:00:00 and testing from 2023-02-01 00:00:00 to 2023-08-01 00:00:00\n",
      "Backtest Period: 26\n",
      "Start Date: 2022-02-01 End Date: 2023-08-01\n",
      "-------------------------------------------\n",
      "Training from 2022-03-01 00:00:00 to 2023-03-01 00:00:00 and testing from 2023-03-01 00:00:00 to 2023-09-01 00:00:00\n",
      "Backtest Period: 27\n",
      "Start Date: 2022-03-01 End Date: 2023-09-01\n",
      "-------------------------------------------\n",
      "Training from 2022-04-01 00:00:00 to 2023-04-01 00:00:00 and testing from 2023-04-01 00:00:00 to 2023-10-01 00:00:00\n",
      "Backtest Period: 28\n",
      "Start Date: 2022-04-01 End Date: 2023-10-01\n",
      "-------------------------------------------\n",
      "Training from 2022-05-01 00:00:00 to 2023-05-01 00:00:00 and testing from 2023-05-01 00:00:00 to 2023-11-01 00:00:00\n",
      "Backtest Period: 29\n",
      "Start Date: 2022-05-01 End Date: 2023-11-01\n",
      "-------------------------------------------\n",
      "Training from 2022-06-01 00:00:00 to 2023-06-01 00:00:00 and testing from 2023-06-01 00:00:00 to 2023-12-01 00:00:00\n",
      "Backtest Period: 30\n",
      "Start Date: 2022-06-01 End Date: 2023-12-01\n",
      "-------------------------------------------\n",
      "Training from 2022-07-01 00:00:00 to 2023-07-01 00:00:00 and testing from 2023-07-01 00:00:00 to 2024-01-01 00:00:00\n",
      "Backtest Period: 31\n",
      "Start Date: 2022-07-01 End Date: 2024-01-01\n",
      "-------------------------------------------\n",
      "Training from 2022-08-01 00:00:00 to 2023-08-01 00:00:00 and testing from 2023-08-01 00:00:00 to 2024-02-01 00:00:00\n",
      "Backtest Period: 32\n",
      "Start Date: 2022-08-01 End Date: 2024-02-01\n",
      "-------------------------------------------\n",
      "Training from 2022-09-01 00:00:00 to 2023-09-01 00:00:00 and testing from 2023-09-01 00:00:00 to 2024-03-01 00:00:00\n",
      "Backtest Period: 33\n",
      "Start Date: 2022-09-01 End Date: 2024-03-01\n",
      "-------------------------------------------\n"
     ]
    }
   ],
   "source": [
    "# Run rolling window overlapping backtest\n",
    "\n",
    "start_date, end_date = START_DATE, START_DATE + pd.DateOffset(months=18)\n",
    "\n",
    "all_backtest_results = run_rolling_window_backtest(data, start_date, end_date, END_DATE=END_DATE, dm_threshold=2, coint_threshold=1, copula_threshold=0.8):\n",
    "\n",
    "dm_backtest_results, coint_backtest_results, copula_backtest_results = all_backtest_results"
   ]
  },
  {
   "cell_type": "code",
   "execution_count": 18,
   "metadata": {},
   "outputs": [],
   "source": [
    "# get cumulative returns for each method\n",
    "dm_average_returns_tcosts = average_daily_returns(get_daily_returns_backtest_transaction_costs(dm_backtest_results, data))\n",
    "coint_average_returns_tcosts = average_daily_returns(get_daily_returns_backtest_transaction_costs(coint_backtest_results, data)).fillna(0)\n",
    "coint_average_returns_tcosts = coint_average_returns_tcosts.loc[pd.to_datetime('2021-01-01'):]\n",
    "copula_average_returns_tcosts = average_daily_returns(get_daily_returns_backtest_transaction_costs(copula_backtest_results, data))\n",
    "\n",
    "dm_average_returns_no_tcosts = average_daily_returns(get_daily_returns_backtest(dm_backtest_results, data))\n",
    "coint_average_returns_no_tcosts = average_daily_returns(get_daily_returns_backtest(coint_backtest_results, data)).fillna(0)\n",
    "coint_average_returns_no_tcosts = coint_average_returns_no_tcosts.loc[pd.to_datetime('2021-01-01'):]\n",
    "copula_average_returns_no_tcosts = average_daily_returns(get_daily_returns_backtest(copula_backtest_results, data))\n",
    "\n",
    "# Combine all dfs and save to excel\n",
    "all_dfs = [dm_average_returns_tcosts, coint_average_returns_tcosts, copula_average_returns_tcosts, dm_average_returns_no_tcosts, coint_average_returns_no_tcosts, copula_average_returns_no_tcosts]\n",
    "all_dfs = pd.concat(all_dfs, axis=1)\n",
    "all_dfs.columns = ['dm_average_returns_tcosts', 'coint_average_returns_tcosts', 'copula_average_returns_tcosts', 'dm_average_returns_no_tcosts', 'coint_average_returns_no_tcosts', 'copula_average_returns_no_tcosts']\n",
    "all_dfs.to_excel('Data/all_average_returns.xlsx')"
   ]
  }
 ],
 "metadata": {
  "kernelspec": {
   "display_name": "Python 3",
   "language": "python",
   "name": "python3"
  },
  "language_info": {
   "codemirror_mode": {
    "name": "ipython",
    "version": 3
   },
   "file_extension": ".py",
   "mimetype": "text/x-python",
   "name": "python",
   "nbconvert_exporter": "python",
   "pygments_lexer": "ipython3",
   "version": "3.11.4"
  }
 },
 "nbformat": 4,
 "nbformat_minor": 2
}
