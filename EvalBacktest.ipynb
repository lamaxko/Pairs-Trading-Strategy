{
 "cells": [
  {
   "cell_type": "markdown",
   "metadata": {},
   "source": [
    "# Backtes the three PTS Methods"
   ]
  },
  {
   "cell_type": "code",
   "execution_count": 1,
   "metadata": {},
   "outputs": [],
   "source": [
    "from Helpers.TstMethods import dm_get_signals, coint_get_signals\n",
    "from Helpers.FunctHelpers import *\n",
    "import pandas as pd"
   ]
  },
  {
   "cell_type": "code",
   "execution_count": 2,
   "metadata": {},
   "outputs": [
    {
     "name": "stdout",
     "output_type": "stream",
     "text": [
      "[*********************100%***********************]  65 of 65 completed"
     ]
    },
    {
     "name": "stderr",
     "output_type": "stream",
     "text": [
      "\n",
      "5 Failed downloads:\n",
      "['RE', 'BRK.B', 'FRC', 'PBCT', 'WLTW']: Exception('%ticker%: No timezone found, symbol may be delisted')\n"
     ]
    },
    {
     "name": "stdout",
     "output_type": "stream",
     "text": [
      "\n"
     ]
    }
   ],
   "source": [
    "# Donwnload data\n",
    "tickers = pd.read_excel('Data/SandP500list.xlsx')\n",
    "tickers = tickers[tickers['sector'] == 'Financials']\n",
    "names = tickers['symbol'].tolist()\n",
    "\n",
    "START_DATE = pd.to_datetime('2022-01-01')\n",
    "END_DATE = pd.to_datetime('2024-07-01')\n",
    "\n",
    "data = download_data(names, START_DATE, END_DATE)"
   ]
  },
  {
   "cell_type": "code",
   "execution_count": 3,
   "metadata": {},
   "outputs": [
    {
     "name": "stdout",
     "output_type": "stream",
     "text": [
      "Backtest Period: 1\n",
      "Start Date: 2022-01-01 End Date: 2023-07-01\n",
      "-------------------------------------------\n",
      "Backtest Period: 2\n",
      "Start Date: 2022-02-01 End Date: 2023-08-01\n",
      "-------------------------------------------\n",
      "Backtest Period: 3\n",
      "Start Date: 2022-03-01 End Date: 2023-09-01\n",
      "-------------------------------------------\n",
      "Backtest Period: 4\n",
      "Start Date: 2022-04-01 End Date: 2023-10-01\n",
      "-------------------------------------------\n",
      "Backtest Period: 5\n",
      "Start Date: 2022-05-01 End Date: 2023-11-01\n",
      "-------------------------------------------\n",
      "Backtest Period: 6\n",
      "Start Date: 2022-06-01 End Date: 2023-12-01\n",
      "-------------------------------------------\n",
      "Backtest Period: 7\n",
      "Start Date: 2022-07-01 End Date: 2024-01-01\n",
      "-------------------------------------------\n",
      "Backtest Period: 8\n",
      "Start Date: 2022-08-01 End Date: 2024-02-01\n",
      "-------------------------------------------\n",
      "Backtest Period: 9\n",
      "Start Date: 2022-09-01 End Date: 2024-03-01\n",
      "-------------------------------------------\n",
      "Backtest Period: 10\n",
      "Start Date: 2022-10-01 End Date: 2024-04-01\n",
      "-------------------------------------------\n",
      "Backtest Period: 11\n",
      "Start Date: 2022-11-01 End Date: 2024-05-01\n",
      "-------------------------------------------\n",
      "Backtest Period: 12\n",
      "Start Date: 2022-12-01 End Date: 2024-06-01\n",
      "-------------------------------------------\n"
     ]
    }
   ],
   "source": [
    "# Performe rolling backtest of the Three PTS Methods\n",
    "num_testing_peiods = pd.to_datetime(END_DATE) - pd.to_datetime(START_DATE)\n",
    "start_date, end_date = START_DATE, START_DATE + pd.DateOffset(months=18)\n",
    "\n",
    "dm_backtest_results = []\n",
    "coint_backtest_results = []\n",
    "\n",
    "for i in range(num_testing_peiods.days):\n",
    "\n",
    "    # Split data into training and testing\n",
    "    train_start, train_end, test_start, test_end = train_test_dates(start_date)\n",
    "    train_data, test_data = train_test_split(data, train_start, train_end, test_start, test_end)\n",
    "\n",
    "    # Perform backtest of the Three PTS Methods\n",
    "\n",
    "    dm_signals = dm_get_signals(train_data, test_data)\n",
    "    dm_backtest_results.append(dm_signals)\n",
    "\n",
    "    coint_signals = coint_get_signals(train_data, test_data)\n",
    "    coint_backtest_results.append(coint_signals)\n",
    "\n",
    "    print_backtest_info(i, start_date, end_date)\n",
    "\n",
    "    start_date, end_date = update_dates(start_date)\n",
    "\n",
    "    if (pd.to_datetime(end_date)) == pd.to_datetime(END_DATE):\n",
    "        break\n"
   ]
  },
  {
   "cell_type": "code",
   "execution_count": null,
   "metadata": {},
   "outputs": [],
   "source": [
    "# TBD implement the backtest results"
   ]
  }
 ],
 "metadata": {
  "kernelspec": {
   "display_name": "Python 3",
   "language": "python",
   "name": "python3"
  },
  "language_info": {
   "codemirror_mode": {
    "name": "ipython",
    "version": 3
   },
   "file_extension": ".py",
   "mimetype": "text/x-python",
   "name": "python",
   "nbconvert_exporter": "python",
   "pygments_lexer": "ipython3",
   "version": "3.11.4"
  }
 },
 "nbformat": 4,
 "nbformat_minor": 2
}
